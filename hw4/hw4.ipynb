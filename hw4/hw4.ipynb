{
 "cells": [
  {
   "cell_type": "markdown",
   "metadata": {
    "deletable": true,
    "editable": true
   },
   "source": [
    "# 1) Fair/fake coin example with probability: 0.5Beta(20,3)+0.5Beta(3,20)"
   ]
  },
  {
   "cell_type": "markdown",
   "metadata": {
    "deletable": true,
    "editable": true
   },
   "source": [
    "Our model selection would be like the following:\n",
    "$$\n",
    "X | m  \\sim\n",
    "\\left\\{\n",
    "    \\begin{array}{ll}\n",
    "     \\delta (\\pi - 0.5) & m = 0, fair\\ coin \\\\\n",
    "     0.5 B (\\pi;20,3) + 0.5 B (\\pi;3,20) & m = 1, fake\\ coin\n",
    "    \\end{array}\n",
    "\\right.\n",
    "\\\\\n",
    "$$\n",
    "\n",
    "Calculations for fair coin is same with ones that we did in the lecture\n",
    "$$\n",
    "p(X_{1:N},m=0) = \\frac {1}{2^{(N+1)}} \\\\\n",
    "$$\n",
    "\n",
    "Calculation for fake coin would be changed with respect to new probability distribution. \n",
    "$$\n",
    "\\begin{equation}\n",
    "    \\begin{split}\n",
    "        p(X_{1:N},m=1) &= \\int d \\pi p(m=1)p(\\pi|m=1) \\prod_{i=1}^N(x_{i}|\\pi) \\\\\n",
    "                       &= \\int d \\pi \\ \\Bigg( 0.5 \\bigg( \\pi ^{20+c0}(1-\\pi)^{3+c1} \\big(\\frac {\\Gamma(23)}{\\Gamma(20)\\Gamma(3)}\\big)\\bigg) + 0.5 \\bigg( \\pi ^{3+c0}(1-\\pi)^{20+c1} \\big(\\frac {\\Gamma(23)}{\\Gamma(20)\\Gamma(3)}\\big)\\bigg) \\Bigg) \\\\\n",
    "                       &= \\frac {1}{2} \\frac {\\Gamma(23)}{\\Gamma(20)\\Gamma(3)} \\int d \\pi  \\big( \\pi^{20+c0}(1-\\pi)^{3+c1}+\\pi^{3+c0}(1-\\pi)^{20+c1}\\big) \\\\\n",
    "                       &= \\frac {1}{2} \\frac {\\Gamma(23)}{\\Gamma(20)\\Gamma(3)} \\bigg( \\frac {\\Gamma(20+c0)\\Gamma(3+c1)}{\\Gamma(23+c0+c1)} + \\frac {\\Gamma(3+c0)\\Gamma(20+c1)}{\\Gamma(23+c0+c1)}\\bigg)\n",
    "    \\end{split}\n",
    "\\end{equation}    \n",
    "$$"
   ]
  },
  {
   "cell_type": "code",
   "execution_count": 6,
   "metadata": {
    "collapsed": false,
    "deletable": true,
    "editable": true
   },
   "outputs": [],
   "source": [
    "import numpy as np\n",
    "import scipy.special as sps\n",
    "%matplotlib inline\n",
    "import matplotlib\n",
    "import matplotlib.pyplot as plt\n",
    "\n",
    "#The function calculates ratio of marginal likelihood\n",
    "def log_odds(c_0, c_1, a1, b1, a2, b2):\n",
    "    # Total number of tosses\n",
    "    N = c_0 + c_1\n",
    "    \n",
    "    M_fair = (N+1)*np.log(0.5)\n",
    "    #x=0.5*(sps.gamma(a1+c_0)*sps.gamma(b1+c_1)/sps.gamma(a1+b1%N))+0.5*(sps.gamma(a2+c_0)*sps.gamma(b2+c_1)/sps.gamma(a2+b2+N))\n",
    "    M_fake = np.log(0.5)+0.5*(sps.gammaln(a1+b1)-sps.gammaln(a1)-sps.gammaln(b1))+0.5*(sps.gammaln(a2+b2)-sps.gammaln(a2)-sps.gammaln(b2))+np.log(0.5*(sps.gamma(a1+c_0)*sps.gamma(b1+c_1)/sps.gamma(a1+b1+N))+0.5*(sps.gamma(a2+c_0)*sps.gamma(b2+c_1)/sps.gamma(a2+b2+N)))\n",
    "    return M_fair - M_fake\n",
    "\n",
    "# TEST FOR THE FUNCTION\n",
    "# Number of Zeros observed\n",
    "#c_0 = 20\n",
    "# Number of Ones\n",
    "#c_1 = 20\n",
    "\n",
    "# Prior\n",
    "#a1 = 20\n",
    "#b1 = 3\n",
    "\n",
    "#a2 = 3\n",
    "#b2 = 20\n",
    "\n",
    "#print('log_odds = ', log_odds(c_0, c_1, a1, b1, a2, b2) )"
   ]
  },
  {
   "cell_type": "code",
   "execution_count": 7,
   "metadata": {
    "collapsed": false,
    "deletable": true,
    "editable": true
   },
   "outputs": [
    {
     "data": {
      "image/png": "[encoded data removed]",
      "text/plain": [
       "<matplotlib.figure.Figure at 0x10448f690>"
      ]
     },
     "metadata": {},
     "output_type": "display_data"
    }
   ],
   "source": [
    "# Prior\n",
    "a1 = 20\n",
    "b1 = 3\n",
    "a2 = 3\n",
    "b2 = 20\n",
    "\n",
    "N = 10\n",
    "\n",
    "l = np.zeros(N+1)\n",
    "\n",
    "for c in range(0,N+1):\n",
    "    l[c] = log_odds(N-c, c, a1, b1, a2, b2)\n",
    "\n",
    "plt.plot(range(0,N+1), l, 'o')\n",
    "plt.plot(range(0,N+1), np.zeros(N+1), 'k:')\n",
    "ax = plt.gca()\n",
    "ax.set_xlabel('Number of ones $c_1$')\n",
    "ax.set_ylabel('log-odds $l(X)$')\n",
    "plt.show()"
   ]
  },
  {
   "cell_type": "code",
   "execution_count": 19,
   "metadata": {
    "collapsed": false,
    "deletable": true,
    "editable": true
   },
   "outputs": [
    {
     "data": {
      "image/png": "[encoded data removed]",
      "text/plain": [
       "<matplotlib.figure.Figure at 0x104542590>"
      ]
     },
     "metadata": {},
     "output_type": "display_data"
    }
   ],
   "source": [
    "# Prior\n",
    "a1 = 20\n",
    "b1 = 3\n",
    "a2 = 3\n",
    "b2 = 20\n",
    "\n",
    "for N in range(1, 25):\n",
    "\n",
    "    l = np.zeros(N+1)\n",
    "\n",
    "    for c in range(0,N+1):\n",
    "        l[c] = log_odds(N-c, c, a1, b1, a2, b2);\n",
    "    \n",
    "    \n",
    "    idx = np.where(np.array(l)<0)\n",
    "    p = np.arange(0,N+1)/N\n",
    "    plt.plot(N*np.ones_like(p), p, '.k',markersize=4)    \n",
    "    plt.plot(N*np.ones_like(p[idx]), p[idx], '.r',markersize=20)\n",
    "    \n",
    "\n",
    "ax = plt.gca()\n",
    "ax.set_ylim((0,1))\n",
    "ax.set_xlabel('$N$')\n",
    "ax.set_ylabel('$c_1/N$')\n",
    "plt.show()"
   ]
  },
  {
   "cell_type": "markdown",
   "metadata": {
    "collapsed": true,
    "deletable": true,
    "editable": true
   },
   "source": [
    "# Q74 from the booklet"
   ]
  },
  {
   "cell_type": "markdown",
   "metadata": {
    "collapsed": true,
    "deletable": true,
    "editable": true
   },
   "source": []
  },
  {
   "cell_type": "code",
   "execution_count": 9,
   "metadata": {
    "collapsed": false,
    "deletable": true,
    "editable": true
   },
   "outputs": [],
   "source": []
  }
 ],
 "metadata": {
  "kernelspec": {
   "display_name": "Python 2",
   "language": "python",
   "name": "python2"
  },
  "language_info": {
   "codemirror_mode": {
    "name": "ipython",
    "version": 2
   },
   "file_extension": ".py",
   "mimetype": "text/x-python",
   "name": "python",
   "nbconvert_exporter": "python",
   "pygments_lexer": "ipython2",
   "version": "2.7.10"
  }
 },
 "nbformat": 4,
 "nbformat_minor": 2
}
