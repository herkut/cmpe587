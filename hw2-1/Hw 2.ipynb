{
 "cells": [
  {
   "cell_type": "markdown",
   "metadata": {
    "deletable": true,
    "editable": true
   },
   "source": [
    "# HW 2"
   ]
  },
  {
   "cell_type": "markdown",
   "metadata": {
    "deletable": true,
    "editable": true
   },
   "source": [
    "1)"
   ]
  },
  {
   "cell_type": "code",
   "execution_count": 8,
   "metadata": {
    "collapsed": false,
    "deletable": true,
    "editable": true
   },
   "outputs": [
    {
     "data": {
      "image/png": "[encoded data removed]",
      "text/plain": [
       "<matplotlib.figure.Figure at 0x77eef0>"
      ]
     },
     "metadata": {},
     "output_type": "display_data"
    }
   ],
   "source": [
    "import matplotlib\n",
    "import numpy as np\n",
    "import matplotlib.pyplot as plt\n",
    "\n",
    "x1 = [5.219,5.102,4.089,5.046,4.596,4.356,5.282,3.594,5.376,5.320,4.938,4.003,3.988,4.137,5.535,5.332,4.712,4.788,5.713,3.897,5.670,4.713,4.687,4.064,4.430,6.066,5.733,6.071,5.336,4.129,4.509,4.765,6.041,5.877,4.931,5.224,3.502,4.805,4.942,3.957,4.323,5.199,4.227,4.612,5.439,5.467,5.936,5.197,5.841,5.791,4.184,5.271,4.365,4.744,4.649,5.793,4.999,4.683,4.860,5.791,5.277,4.109,3.877,5.735,5.324,5.318,4.462,4.410,4.636,6.017,4.336,5.788,3.859,5.022,3.959,4.001,5.522,5.857,4.596,4.833,5.073,6.091,3.845,3.961,5.104,5.667,6.229,4.352,4.139,6.148,4.456,5.459,3.861,5.139,5.435,5.333,4.016,4.187,3.681,4.943];\n",
    "x2 = [7.998,2.163,4.327,8.000,2.238,2.157,7.841,4.953,2.124,3.755,2.001,6.037,5.197,3.742,7.902,7.799,2.027,7.928,2.931,4.284,7.273,2.177,7.894,5.441,2.535,4.035,7.255,5.107,2.123,3.523,2.979,2.080,5.963,3.291,2.012,7.916,4.110,2.007,2.008,4.141,2.926,7.940,2.987,2.272,2.621,7.698,6.477,2.046,3.409,3.160,3.449,2.111,7.614,2.047,7.963,5.572,8.000,2.147,7.811,6.329,7.696,6.748,5.785,3.654,2.373,7.919,2.455,2.014,7.638,3.632,2.760,6.016,6.004,7.978,4.353,4.747,7.721,2.260,7.707,2.061,2.009,4.502,4.835,5.543,8.000,6.842,4.691,2.719,5.550,6.180,2.694,7.797,4.759,7.970,7.913,2.106,4.113,6.587,7.095,7.963];\n",
    "\n",
    "plt.plot(x1,x2,\"o\");\n",
    "plt.xlim(0, 10);\n",
    "plt.ylim(0, 10);\n",
    "plt.gca().set_aspect('equal', adjustable='box')\n",
    "plt.show();"
   ]
  },
  {
   "cell_type": "markdown",
   "metadata": {
    "deletable": true,
    "editable": true
   },
   "source": [
    "2)"
   ]
  },
  {
   "cell_type": "markdown",
   "metadata": {
    "collapsed": true,
    "deletable": true,
    "editable": true
   },
   "source": [
    "It looks like an ellipse centralized at (5,5) whose equation is the following $ (x1-5)^2+\\frac{(x2-5)^2}{3^2}=1 $. If we neglect outliers, we can benefit from the equation $ x2 = \\sqrt{9-9(x1-5)^2}+5 $ in our model. Let us choose x1 from uniform distribution between 4 and 6 with a small standard deviation($\\sigma=0.01$). "
   ]
  },
  {
   "cell_type": "markdown",
   "metadata": {
    "collapsed": true,
    "deletable": true,
    "editable": true
   },
   "source": [
    "3)"
   ]
  },
  {
   "cell_type": "code",
   "execution_count": 22,
   "metadata": {
    "collapsed": false
   },
   "outputs": [],
   "source": [
    "import matplotlib\n",
    "import numpy as np\n",
    "import matplotlib.pyplot as plt\n",
    "\n",
    "x1 = []\n",
    "x2 = []\n",
    "sig = 0.01\n",
    "for i in range(1, 100):\n",
    "    x1Temp = np.random.uniform(4,6)\n",
    "    if np.random.rand() > .5:\n",
    "        x1Temp = x1Temp+sig\n",
    "    else:\n",
    "        x1Temp = x1Temp-sig\n",
    "    x1.append(x1Temp)\n",
    "    if np.random.rand() > .5:\n",
    "        x2Temp = np.sqrt(9-9*(x1Temp-5)*(x1Temp-5))+5\n",
    "    else:\n",
    "        x2Temp = -np.sqrt(9-9*(x1Temp-5)*(x1Temp-5))+5\n",
    "    #x2.append(np.sqrt(9-9*(x1Temp-5)*(1Temp-5))+5)\n",
    "    x2.append(x2Temp)\n",
    "    "
   ]
  },
  {
   "cell_type": "markdown",
   "metadata": {},
   "source": [
    "4)"
   ]
  },
  {
   "cell_type": "code",
   "execution_count": 21,
   "metadata": {
    "collapsed": false
   },
   "outputs": [
    {
     "data": {
      "image/png": "[encoded data removed]",
      "text/plain": [
       "<matplotlib.figure.Figure at 0x898f30>"
      ]
     },
     "metadata": {},
     "output_type": "display_data"
    }
   ],
   "source": [
    "plt.plot(x1,x2,\"o\");\n",
    "plt.xlim(0, 10);\n",
    "plt.ylim(0, 10);\n",
    "plt.gca().set_aspect('equal', adjustable='box')\n",
    "plt.show();"
   ]
  },
  {
   "cell_type": "markdown",
   "metadata": {},
   "source": [
    "5)"
   ]
  },
  {
   "cell_type": "raw",
   "metadata": {},
   "source": [
    "Kolmogorov-Smirnov test can be used in assesment similarity between these two dataset."
   ]
  }
 ],
 "metadata": {
  "kernelspec": {
   "display_name": "Python 3",
   "language": "python",
   "name": "python3"
  },
  "language_info": {
   "codemirror_mode": {
    "name": "ipython",
    "version": 3
   },
   "file_extension": ".py",
   "mimetype": "text/x-python",
   "name": "python",
   "nbconvert_exporter": "python",
   "pygments_lexer": "ipython3",
   "version": "3.6.0"
  }
 },
 "nbformat": 4,
 "nbformat_minor": 2
}
