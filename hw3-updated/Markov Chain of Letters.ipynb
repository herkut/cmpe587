{
 "cells": [
  {
   "cell_type": "markdown",
   "metadata": {
    "deletable": true,
    "editable": true
   },
   "source": [
    "Name: Hamdi Erkut\n",
    "\n",
    "I hereby declare that I observed the honour code of the university when preparing the homework."
   ]
  },
  {
   "cell_type": "markdown",
   "metadata": {
    "deletable": true,
    "editable": true
   },
   "source": [
    "## Solution to 16.3-5 and 18"
   ]
  },
  {
   "cell_type": "markdown",
   "metadata": {
    "deletable": true,
    "editable": true
   },
   "source": [
    "## Programming Homework 3\n",
    "\n",
    "In this exercise we model a string of text using a Markov(1) model. For simplicity we only consider letters 'a-z'. Capital letters 'A-Z' are mapped to the corresponding ones. All remaining letters, symbols, numbers, including spaces, are denoted by '.'.\n",
    "\n",
    "\n",
    "We have a probability table $T$ where $T_{i,j} = p(x_t = j | x_{t-1} = i)$  transition model of letters in English text for $t=1,2 \\dots N$. Assume that the initial letter in a string is always a space denoted as $x_0 = \\text{'.'}$. Such a model where the probability table is always the same is sometimes called a stationary model.\n",
    "\n",
    "1. For a given $N$, write a program to sample random strings with letters $x_1, x_2, \\dots, x_N$ from $p(x_{1:N}|x_0)$\n",
    "1. Now suppose you are given strings with missing letters, where each missing letter is denoted by a question mark (or underscore, as below). Implement a method, that samples missing letters conditioned on observed ones, i.e., samples from $p(x_{-\\alpha}|x_{\\alpha})$ where $\\alpha$ denotes indices of observed letters. For example, if the input is 't??.', we have $N=4$ and\n",
    "$x_1 = \\text{'t'}$ and $x_4 = \\text{'.'}$, $\\alpha=\\{1,4\\}$ and $-\\alpha=\\{2,3\\}$. Your program may possibly generate the strings 'the.', 'twi.', 'tee.', etc. Hint: make sure to make use all data given and sample from the correct distribution. Implement the method and print the results for the test strings below. \n",
    "1. Describe a method for filling in the gaps by estimating the most likely letter for each position. Hint: you need to compute\n",
    "$$\n",
    "x_{-\\alpha}^* = \\arg\\max_{x_{-\\alpha}} p(x_{-\\alpha}|x_{\\alpha})\n",
    "$$\n",
    "Implement the method and print the results for the following test strings along with the log-probability  $\\log p(x_{-\\alpha}^*,x_{\\alpha})$.\n",
    "1. Discuss how you can improve the model to get better estimations."
   ]
  },
  {
   "cell_type": "code",
   "execution_count": 1,
   "metadata": {
    "collapsed": true,
    "deletable": true,
    "editable": true
   },
   "outputs": [],
   "source": [
    "test_strings = ['th__br__n.f_x.', '_u_st__n_.to_be._nsw_r__','i__at_._a_h_n_._e_r_i_g','q___t.___z._____t.__.___.__.']"
   ]
  },
  {
   "cell_type": "markdown",
   "metadata": {
    "deletable": true,
    "editable": true
   },
   "source": [
    "Hint: The code below loads a table of transition probabilities for English text."
   ]
  },
  {
   "cell_type": "code",
   "execution_count": 2,
   "metadata": {
    "collapsed": false,
    "deletable": true,
    "editable": true,
    "scrolled": true
   },
   "outputs": [],
   "source": [
    "import csv\n",
    "import numpy as np\n",
    "import math as math\n",
    "from IPython.display import display, Latex\n",
    "\n",
    "alphabet = [chr(i+ord('a')) for i in range(26)]\n",
    "alphabet.append('.')\n",
    "letter2idx = {c:i for i,c in enumerate(alphabet)}\n",
    "\n",
    "T = []\n",
    "with open('transitions.csv') as csvfile:\n",
    "    reader = csv.reader(csvfile, delimiter=',')\n",
    "    for row in reader:\n",
    "        ##T.append(row)\n",
    "        ## T is filled with float instead of strings\n",
    "        T.append(np.array(row).astype(np.float))\n",
    "T = np.array(T)\n",
    "##print('Example')\n",
    "## p(x_t = 'u' | x_{t-1} = 'q')\n",
    "##display(Latex(r\"$p(x_t = \\text{'u'} | x_{t-1} = \\text{'q'})$\"))\n",
    "##print(T[letter2idx['q']][letter2idx['u']])\n",
    "##display(Latex(r\"$p(x_t | x_{t-1} = \\text{'a'})$\"))\n",
    "##for c,p in zip(alphabet,T[letter2idx['a']]):\n",
    "##    print(c,p)\n",
    "##sumTmp = 0.0\n",
    "##for c,p in zip(alphabet,T[letter2idx['.']]):\n",
    "##    sumTmp += float(p)\n",
    "##print (sumTmp)"
   ]
  },
  {
   "cell_type": "markdown",
   "metadata": {
    "deletable": true,
    "editable": true
   },
   "source": [
    "# 1)"
   ]
  },
  {
   "cell_type": "code",
   "execution_count": 3,
   "metadata": {
    "collapsed": false,
    "deletable": true,
    "editable": true
   },
   "outputs": [],
   "source": [
    "## function to normalize a vector\n",
    "def normalizeVector(V):\n",
    "    return V/np.sum(V)\n",
    "## end of the normalization of a vector\n",
    "\n",
    "## function to normalize a matrix\n",
    "def normalizeMatrix(M):\n",
    "    N = []\n",
    "    for c in letter2idx:\n",
    "        N.append(normalizeVector(M[letter2idx[c]]))\n",
    "    return N\n",
    "## end of the normalization of a matrix\n",
    "\n",
    "##function to creata string containing N character\n",
    "def createAStringWithoutEndChar(n):\n",
    "    prevChar = '.'\n",
    "    result = \".\"\n",
    "    for i in range(1, n):\n",
    "        tmp = np.random.choice(alphabet,p = normalizeVector(T[letter2idx[prevChar]]))\n",
    "        result += tmp\n",
    "        prevChar = tmp\n",
    "    print (result)\n",
    "## end of the function\n"
   ]
  },
  {
   "cell_type": "markdown",
   "metadata": {
    "deletable": true,
    "editable": true
   },
   "source": [
    "# 2)"
   ]
  },
  {
   "cell_type": "code",
   "execution_count": 4,
   "metadata": {
    "collapsed": false,
    "deletable": true,
    "editable": true
   },
   "outputs": [],
   "source": [
    "##function to creata string containing N character whose first and last character is defined\n",
    "def createAStringWithStartAndEndChar(n,firstChar,lastChar):\n",
    "    prevChar = firstChar\n",
    "    result = firstChar\n",
    "    for i in range(2, n):\n",
    "        tmp = np.random.choice(alphabet, p = normalizeMatrix(T*np.power(T.transpose(),n-i))[letter2idx[prevChar]])\n",
    "        result += tmp\n",
    "        prevChar = tmp\n",
    "    result += lastChar\n",
    "    return result\n",
    "## end of the function"
   ]
  },
  {
   "cell_type": "markdown",
   "metadata": {
    "collapsed": true,
    "deletable": true,
    "editable": true
   },
   "source": [
    "# 3)"
   ]
  },
  {
   "cell_type": "code",
   "execution_count": 9,
   "metadata": {
    "collapsed": false,
    "deletable": true,
    "editable": true
   },
   "outputs": [
    {
     "name": "stdout",
     "output_type": "stream",
     "text": [
      "\n",
      "tht.brern.fox.\n",
      "\n",
      "\n",
      "tusst.tno.tofbe.tnsw.re.\n",
      "\n",
      "\n",
      "illat..tarhtno.terreitg\n",
      "\n",
      "\n",
      "q.s.t.derz.devert.s..der.s..\n",
      "\n"
     ]
    }
   ],
   "source": [
    "##function to creata string containing N character\n",
    "def createMostProbableStringWithoutEndChar(n,firstChar):\n",
    "    prevChar = firstChar\n",
    "    result = ''\n",
    "    for i in range(1, n):\n",
    "        tmp = alphabet[np.argmax(normalizeVector(T[letter2idx[prevChar]]))]\n",
    "        result += tmp\n",
    "        prevChar = tmp\n",
    "    return result\n",
    "## end of the function\n",
    "\n",
    "##function to creata string containing N character whose last character is \n",
    "def createMostProbableStringWithStartAndEndChar(n,firstChar,lastChar):\n",
    "    prevChar = firstChar\n",
    "    result = ''\n",
    "    for i in range(2, n):\n",
    "        mostProbableCharIndex = np.argmax(normalizeMatrix(T*np.power(T.transpose(),n-i))[letter2idx[prevChar]])\n",
    "        tmp = alphabet[mostProbableCharIndex]\n",
    "        result += tmp\n",
    "        prevChar = tmp\n",
    "    result += lastChar\n",
    "    return result\n",
    "## end of the function\n",
    "\n",
    "def runTests(strArr):\n",
    "    for string in strArr:\n",
    "        i = 0\n",
    "        creationProcessStarted = 0\n",
    "        size = 0\n",
    "        firstChar = '.'\n",
    "        lastChar = '.'\n",
    "        result = ''\n",
    "        while i <= len(string)-1:\n",
    "            if string[i] == '_' :\n",
    "                if(bool(creationProcessStarted) == 0):\n",
    "                    creationProcessStarted = 1\n",
    "                    if i-1 >= 0:\n",
    "                        firstChar = string[i-1]\n",
    "                        size+=1\n",
    "                    else:\n",
    "                        firstChar = '.'\n",
    "                        size+=1\n",
    "                size+=1\n",
    "                i+=1\n",
    "            else:\n",
    "                if (creationProcessStarted == 1):\n",
    "                    lastChar = string[i]\n",
    "                    size+=1\n",
    "                    result += createMostProbableStringWithStartAndEndChar(size,firstChar,lastChar)\n",
    "                    size = 0\n",
    "                    firstChar = '.'\n",
    "                    lastChar = '.'\n",
    "                    creationProcessStarted = False\n",
    "                else:\n",
    "                    result += string[i]\n",
    "                i+=1\n",
    "        if(creationProcessStarted == 1):\n",
    "            result += createMostProbableStringWithoutEndChar(size,firstChar)\n",
    "        print (\"\\n\"+result+\"\\n\")\n",
    "## end of tests\n",
    "\n",
    "runTests(test_strings)"
   ]
  },
  {
   "cell_type": "code",
   "execution_count": null,
   "metadata": {
    "collapsed": true,
    "deletable": true,
    "editable": true
   },
   "outputs": [],
   "source": []
  }
 ],
 "metadata": {
  "kernelspec": {
   "display_name": "Python 3",
   "language": "python",
   "name": "python3"
  },
  "language_info": {
   "codemirror_mode": {
    "name": "ipython",
    "version": 3
   },
   "file_extension": ".py",
   "mimetype": "text/x-python",
   "name": "python",
   "nbconvert_exporter": "python",
   "pygments_lexer": "ipython3",
   "version": "3.6.0"
  }
 },
 "nbformat": 4,
 "nbformat_minor": 0
}
